{
 "cells": [
  {
   "cell_type": "code",
   "execution_count": 2,
   "metadata": {},
   "outputs": [],
   "source": [
    "import numpy as np\n",
    "import matplotlib.pyplot as plt"
   ]
  },
  {
   "cell_type": "code",
   "execution_count": 9,
   "metadata": {},
   "outputs": [],
   "source": [
    "%reload_ext autoreload\n",
    "%autoreload 2"
   ]
  },
  {
   "cell_type": "code",
   "execution_count": 10,
   "metadata": {},
   "outputs": [],
   "source": [
    "namesngenre = np.load('./dataset/namesngenre.npy')"
   ]
  },
  {
   "cell_type": "code",
   "execution_count": 11,
   "metadata": {},
   "outputs": [
    {
     "data": {
      "text/plain": [
       "array([['Toy Story (1995)',\n",
       "        'Adventure|Animation|Children|Comedy|Fantasy'],\n",
       "       ['Jumanji (1995)', 'Adventure|Children|Fantasy'],\n",
       "       ['Grumpier Old Men (1995)', 'Comedy|Romance'],\n",
       "       ...,\n",
       "       ['Elsa & Fred (2005)', 'Comedy|Drama|Romance'],\n",
       "       ['Tomb Raider (2018)', 'Action|Adventure|Fantasy'],\n",
       "       ['Fred Armisen: Standup for Drummers (2018)', 'Comedy']],\n",
       "      dtype='<U158')"
      ]
     },
     "execution_count": 11,
     "metadata": {},
     "output_type": "execute_result"
    }
   ],
   "source": [
    "namesngenre"
   ]
  },
  {
   "cell_type": "code",
   "execution_count": 12,
   "metadata": {},
   "outputs": [],
   "source": [
    "ratings_train = np.load('./dataset/ratings_train.npy')"
   ]
  },
  {
   "cell_type": "code",
   "execution_count": 13,
   "metadata": {},
   "outputs": [
    {
     "data": {
      "text/plain": [
       "(610, 4980)"
      ]
     },
     "execution_count": 13,
     "metadata": {},
     "output_type": "execute_result"
    }
   ],
   "source": [
    "ratings_train.shape"
   ]
  },
  {
   "cell_type": "code",
   "execution_count": 14,
   "metadata": {},
   "outputs": [
    {
     "data": {
      "text/plain": [
       "array([[ 4., nan, nan, ..., nan, nan, nan],\n",
       "       [nan, nan, nan, ..., nan, nan, nan],\n",
       "       [nan, nan, nan, ..., nan, nan, nan],\n",
       "       ...,\n",
       "       [nan,  2., nan, ..., nan, nan, nan],\n",
       "       [ 3., nan, nan, ..., nan, nan, nan],\n",
       "       [nan, nan, nan, ..., nan, nan, nan]])"
      ]
     },
     "execution_count": 14,
     "metadata": {},
     "output_type": "execute_result"
    }
   ],
   "source": [
    "ratings_train"
   ]
  },
  {
   "cell_type": "code",
   "execution_count": 15,
   "metadata": {},
   "outputs": [
    {
     "data": {
      "text/plain": [
       "5.0"
      ]
     },
     "execution_count": 15,
     "metadata": {},
     "output_type": "execute_result"
    }
   ],
   "source": [
    "np.nanmax(ratings_train)"
   ]
  },
  {
   "cell_type": "markdown",
   "metadata": {},
   "source": [
    "# Matrix Factorization"
   ]
  },
  {
   "cell_type": "code",
   "execution_count": 34,
   "metadata": {},
   "outputs": [],
   "source": [
    "import MF"
   ]
  },
  {
   "cell_type": "code",
   "execution_count": 27,
   "metadata": {},
   "outputs": [],
   "source": [
    "k = 1\n",
    "\n",
    "factorization = MF.MF(ratings_train, l=0.01, mu=0.01, k=k)\n"
   ]
  },
  {
   "cell_type": "code",
   "execution_count": 28,
   "metadata": {},
   "outputs": [],
   "source": [
    "non_nan_indices = np.where(~np.isnan(ratings_train))\n",
    "# Separate the row and column indices\n",
    "row_indices, col_indices = non_nan_indices\n",
    "R_non_nan = factorization.R[row_indices, col_indices]"
   ]
  },
  {
   "cell_type": "code",
   "execution_count": 30,
   "metadata": {},
   "outputs": [
    {
     "name": "stdout",
     "output_type": "stream",
     "text": [
      "Iteration 1: Cost = 22388.793390470175. RMSE = 0.838026468135326\n",
      "Iteration 2: Cost = 22367.741691297226. RMSE = 0.8376289149727438\n",
      "Iteration 3: Cost = 22346.911891917505. RMSE = 0.8372353672704069\n",
      "Iteration 4: Cost = 22326.299719696177. RMSE = 0.8368457498704029\n",
      "Iteration 5: Cost = 22305.901026444753. RMSE = 0.8364599897736218\n",
      "Iteration 6: Cost = 22285.7117835671. RMSE = 0.8360780160563539\n",
      "Iteration 7: Cost = 22265.7280774473. RMSE = 0.8356997597908901\n",
      "Iteration 8: Cost = 22245.94610505204. RMSE = 0.8353251539698958\n",
      "Iteration 9: Cost = 22226.362169745506. RMSE = 0.8349541334343474\n",
      "Iteration 10: Cost = 22206.972677298945. RMSE = 0.8345866348048324\n",
      "Iteration 11: Cost = 22187.774132087532. RMSE = 0.8342225964160238\n",
      "Iteration 12: Cost = 22168.76313346004. RMSE = 0.8338619582541597\n",
      "Iteration 13: Cost = 22149.936372278135. RMSE = 0.8335046618973603\n",
      "Iteration 14: Cost = 22131.29062761099. RMSE = 0.8331506504586327\n",
      "Iteration 15: Cost = 22112.822763576296. RMSE = 0.8327998685314179\n",
      "Iteration 16: Cost = 22094.52972632458. RMSE = 0.8324522621375455\n",
      "Iteration 17: Cost = 22076.408541157223. RMSE = 0.832107778677472\n",
      "Iteration 18: Cost = 22058.45630976696. RMSE = 0.8317663668826809\n",
      "Iteration 19: Cost = 22040.67020760195. RMSE = 0.8314279767701358\n",
      "Iteration 20: Cost = 22023.047481341167. RMSE = 0.8310925595986782\n",
      "Iteration 21: Cost = 22005.585446478224. RMSE = 0.8307600678272754\n",
      "Iteration 22: Cost = 21988.28148500714. RMSE = 0.8304304550750217\n",
      "Iteration 23: Cost = 21971.13304320559. RMSE = 0.8301036760828078\n",
      "Iteration 24: Cost = 21954.137629509692. RMSE = 0.8297796866765745\n",
      "Iteration 25: Cost = 21937.292812477386. RMSE = 0.8294584437320731\n",
      "Iteration 26: Cost = 21920.596218834104. RMSE = 0.8291399051410603\n",
      "Iteration 27: Cost = 21904.04553160015. RMSE = 0.828824029778855\n",
      "Iteration 28: Cost = 21887.638488290082. RMSE = 0.8285107774731969\n",
      "Iteration 29: Cost = 21871.372879186198. RMSE = 0.8282001089743382\n",
      "Iteration 30: Cost = 21855.24654568165. RMSE = 0.8278919859263169\n",
      "Iteration 31: Cost = 21839.257378685277. RMSE = 0.8275863708393518\n",
      "Iteration 32: Cost = 21823.403317092267. RMSE = 0.8272832270633075\n",
      "Iteration 33: Cost = 21807.682346311274. RMSE = 0.8269825187621819\n",
      "Iteration 34: Cost = 21792.0924968501. RMSE = 0.8266842108895682\n",
      "Iteration 35: Cost = 21776.63184295496. RMSE = 0.826388269165046\n",
      "Iteration 36: Cost = 21761.298501300087. RMSE = 0.826094660051461\n",
      "Iteration 37: Cost = 21746.09062972759. RMSE = 0.8258033507330538\n",
      "Iteration 38: Cost = 21731.006426034364. RMSE = 0.8255143090943967\n",
      "Iteration 39: Cost = 21716.04412680364. RMSE = 0.8252275037001082\n",
      "Iteration 40: Cost = 21701.202006280047. RMSE = 0.8249429037753051\n",
      "Iteration 41: Cost = 21686.478375282724. RMSE = 0.8246604791867651\n",
      "Iteration 42: Cost = 21671.87158016338. RMSE = 0.8243802004247651\n",
      "Iteration 43: Cost = 21657.38000179627. RMSE = 0.8241020385855697\n",
      "Iteration 44: Cost = 21643.002054607787. RMSE = 0.8238259653545389\n",
      "Iteration 45: Cost = 21628.73618563788. RMSE = 0.8235519529898307\n",
      "Iteration 46: Cost = 21614.580873637176. RMSE = 0.8232799743066739\n",
      "Iteration 47: Cost = 21600.53462819304. RMSE = 0.8230100026621844\n",
      "Iteration 48: Cost = 21586.595988887453. RMSE = 0.822742011940707\n",
      "Iteration 49: Cost = 21572.763524483296. RMSE = 0.8224759765396559\n",
      "Iteration 50: Cost = 21559.035832139. RMSE = 0.8222118713558373\n",
      "Iteration 51: Cost = 21545.41153664934. RMSE = 0.8219496717722334\n",
      "Iteration 52: Cost = 21531.88928971005. RMSE = 0.8216893536452275\n",
      "Iteration 53: Cost = 21518.467769213396. RMSE = 0.8214308932922547\n",
      "Iteration 54: Cost = 21505.145678557616. RMSE = 0.8211742674798606\n",
      "Iteration 55: Cost = 21491.92174598691. RMSE = 0.8209194534121502\n",
      "Iteration 56: Cost = 21478.794723950472. RMSE = 0.8206664287196148\n",
      "Iteration 57: Cost = 21465.76338848073. RMSE = 0.8204151714483185\n",
      "Iteration 58: Cost = 21452.826538594214. RMSE = 0.8201656600494325\n",
      "Iteration 59: Cost = 21439.982995711136. RMSE = 0.819917873369104\n",
      "Iteration 60: Cost = 21427.231603091677. RMSE = 0.8196717906386456\n",
      "Iteration 61: Cost = 21414.571225292268. RMSE = 0.819427391465033\n",
      "Iteration 62: Cost = 21402.000747638558. RMSE = 0.8191846558217005\n",
      "Iteration 63: Cost = 21389.519075713273. RMSE = 0.8189435640396222\n",
      "Iteration 64: Cost = 21377.12513486187. RMSE = 0.8187040967986682\n",
      "Iteration 65: Cost = 21364.81786971386. RMSE = 0.8184662351192262\n",
      "Iteration 66: Cost = 21352.59624371472. RMSE = 0.8182299603540766\n",
      "Iteration 67: Cost = 21340.4592386784. RMSE = 0.8179952541805163\n",
      "Iteration 68: Cost = 21328.40585434819. RMSE = 0.817762098592716\n",
      "Iteration 69: Cost = 21316.43510797205. RMSE = 0.8175304758943084\n",
      "Iteration 70: Cost = 21304.546033893377. RMSE = 0.8173003686911942\n",
      "Iteration 71: Cost = 21292.737683149582. RMSE = 0.8170717598845614\n",
      "Iteration 72: Cost = 21281.00912308514. RMSE = 0.8168446326641093\n",
      "Iteration 73: Cost = 21269.359436976643. RMSE = 0.8166189705014683\n",
      "Iteration 74: Cost = 21257.787723666446. RMSE = 0.8163947571438116\n",
      "Iteration 75: Cost = 21246.29309720772. RMSE = 0.8161719766076493\n",
      "Iteration 76: Cost = 21234.87468652186. RMSE = 0.8159506131728007\n",
      "Iteration 77: Cost = 21223.53163506242. RMSE = 0.8157306513765371\n",
      "Iteration 78: Cost = 21212.263100490523. RMSE = 0.8155120760078901\n",
      "Iteration 79: Cost = 21201.06825435861. RMSE = 0.815294872102119\n",
      "Iteration 80: Cost = 21189.94628180457. RMSE = 0.8150790249353335\n",
      "Iteration 81: Cost = 21178.89638125182. RMSE = 0.8148645200192639\n",
      "Iteration 82: Cost = 21167.91776412046. RMSE = 0.8146513430961764\n",
      "Iteration 83: Cost = 21157.00965454391. RMSE = 0.8144394801339264\n",
      "Iteration 84: Cost = 21146.171289096284. RMSE = 0.8142289173211484\n",
      "Iteration 85: Cost = 21135.401916522664. RMSE = 0.8140196410625733\n",
      "Iteration 86: Cost = 21124.70079748278. RMSE = 0.8138116379744733\n",
      "Iteration 87: Cost = 21114.06720429482. RMSE = 0.8136048948802281\n",
      "Iteration 88: Cost = 21103.500420692733. RMSE = 0.8133993988060091\n",
      "Iteration 89: Cost = 21092.999741583833. RMSE = 0.8131951369765764\n",
      "Iteration 90: Cost = 21082.564472818223. RMSE = 0.8129920968111884\n",
      "Iteration 91: Cost = 21072.193930960337. RMSE = 0.8127902659196157\n",
      "Iteration 92: Cost = 21061.887443067702. RMSE = 0.81258963209826\n",
      "Iteration 93: Cost = 21051.644346477842. RMSE = 0.8123901833263724\n",
      "Iteration 94: Cost = 21041.463988595224. RMSE = 0.8121919077623695\n",
      "Iteration 95: Cost = 21031.345726690546. RMSE = 0.8119947937402432\n",
      "Iteration 96: Cost = 21021.288927697566. RMSE = 0.8117988297660603\n",
      "Iteration 97: Cost = 21011.292968024234. RMSE = 0.8116040045145525\n",
      "Iteration 98: Cost = 21001.357233358525. RMSE = 0.8114103068257912\n",
      "Iteration 99: Cost = 20991.48111848709. RMSE = 0.8112177257019437\n",
      "Iteration 100: Cost = 20981.664027114704. RMSE = 0.8110262503041126\n",
      "[4.6165415  5.14457026 3.96280214 ... 3.93813312 3.85151205 4.29120793]\n"
     ]
    },
    {
     "data": {
      "text/plain": [
       "0.8110262503041126"
      ]
     },
     "execution_count": 30,
     "metadata": {},
     "output_type": "execute_result"
    }
   ],
   "source": [
    "factorization.fit(lr_I=0.0001, lr_U=0.0001, num_iterations=100)\n",
    "prediction_full = factorization.predict()\n",
    "prediction = prediction_full[row_indices, col_indices]\n",
    "print(prediction)\n",
    "factorization.RMSE_(prediction_full)"
   ]
  },
  {
   "cell_type": "markdown",
   "metadata": {},
   "source": [
    "# Deep Matrix Factorization\n"
   ]
  },
  {
   "cell_type": "code",
   "execution_count": 82,
   "metadata": {},
   "outputs": [],
   "source": [
    "import deepMF\n",
    "import torch\n",
    "import torch\n",
    "import torch.nn as nn\n",
    "import torch.optim as optim\n",
    "%reload_ext autoreload\n",
    "%autoreload 2"
   ]
  },
  {
   "cell_type": "code",
   "execution_count": 68,
   "metadata": {},
   "outputs": [],
   "source": [
    "# Load the input data from a numpy file\n",
    "ratings_train = np.load('dataset/ratings_train.npy')\n",
    "ratings_test = np.load('dataset/ratings_test.npy')\n",
    "# Replace NaN values with 0\n",
    "ratings_train[np.isnan(ratings_train)] = 0\n",
    "ratings_test[np.isnan(ratings_test)] = 0"
   ]
  },
  {
   "cell_type": "code",
   "execution_count": 69,
   "metadata": {},
   "outputs": [],
   "source": [
    "total_data = ratings_train + ratings_test\n",
    "\n",
    "non_empty_indices = np.where(total_data != 0)\n",
    "non_empty_indices = np.array([non_empty_indices[0], non_empty_indices[1]])\n",
    "\n",
    "indices = np.random.choice(np.array(range(non_empty_indices.shape[1])), size=non_empty_indices.shape[1], replace = False)\n",
    "\n",
    "train_set_indices = indices[0:int(non_empty_indices.shape[1]*0.7)]\n",
    "train_set_indices2d = np.array(non_empty_indices[:, train_set_indices])\n",
    "train_set = np.zeros(total_data.shape)\n",
    "train_set[train_set_indices2d[0], train_set_indices2d[1]] = total_data[train_set_indices2d[0], train_set_indices2d[1]]\n",
    "\n",
    "test_set_indices = indices[int(non_empty_indices.shape[1]*0.7):]\n",
    "test_set_indices2d = np.array(non_empty_indices[:, test_set_indices])\n",
    "test_set = np.zeros(total_data.shape)\n",
    "test_set[test_set_indices2d[0], test_set_indices2d[1]] = total_data[test_set_indices2d[0], test_set_indices2d[1]]\n",
    "\n",
    "normalized_train_data = train_set/np.max(train_set)\n",
    "\n",
    "normalized_test_data = test_set/np.max(test_set)"
   ]
  },
  {
   "cell_type": "code",
   "execution_count": 92,
   "metadata": {},
   "outputs": [],
   "source": [
    "# Hyperparameters evaluation\n",
    "encoded_dim = 32\n",
    "input_size = normalized_train_data.shape \n",
    "hidden_size_row = 16\n",
    "hidden_size_col = 64"
   ]
  },
  {
   "cell_type": "code",
   "execution_count": 43,
   "metadata": {},
   "outputs": [
    {
     "name": "stdout",
     "output_type": "stream",
     "text": [
      "tensor(0.5228, grad_fn=<MeanBackward0>)\n",
      "tensor(0.7152, grad_fn=<MeanBackward0>)\n",
      "tensor(0.7113, grad_fn=<MeanBackward0>)\n",
      "tensor(0.6021, grad_fn=<MeanBackward0>)\n",
      "tensor(0.6689, grad_fn=<MeanBackward0>)\n",
      "tensor(0.6710, grad_fn=<MeanBackward0>)\n",
      "tensor(0.5735, grad_fn=<MeanBackward0>)\n",
      "tensor(0.7000, grad_fn=<MeanBackward0>)\n",
      "tensor(0.6967, grad_fn=<MeanBackward0>)\n",
      "tensor(0.5080, grad_fn=<MeanBackward0>)\n",
      "tensor(0.7614, grad_fn=<MeanBackward0>)\n",
      "tensor(0.7689, grad_fn=<MeanBackward0>)\n",
      "tensor(0.5538, grad_fn=<MeanBackward0>)\n",
      "tensor(0.6994, grad_fn=<MeanBackward0>)\n",
      "tensor(0.6960, grad_fn=<MeanBackward0>)\n"
     ]
    }
   ],
   "source": [
    "optimizers = []\n",
    "model = deepMF.ParallelLayersModel(input_size, hidden_size_row, hidden_size_col)\n",
    "optimizers.append((model, optim.Adam(model.parameters(), lr=0.001)))\n",
    "model = deepMF.ParallelLayersModel(input_size, hidden_size_row, hidden_size_col)\n",
    "optimizers.append((model, optim.RAdam(model.parameters(), lr=0.001)))\n",
    "model = deepMF.ParallelLayersModel(input_size, hidden_size_row, hidden_size_col)\n",
    "optimizers.append((model, optim.AdamW(model.parameters(), lr=0.001)))\n",
    "model = deepMF.ParallelLayersModel(input_size, hidden_size_row, hidden_size_col)\n",
    "optimizers.append((model, optim.Rprop(model.parameters(), lr=0.001)))\n",
    "model = deepMF.ParallelLayersModel(input_size, hidden_size_row, hidden_size_col)\n",
    "optimizers.append((model, optim.AdamW(model.parameters(), lr=0.001, weight_decay=0.0001)))\n",
    "\n",
    "for i in range(len(optimizers)):\n",
    "    deepMF.train_model(optimizers[i][0], optimizers[i][1], torch.FloatTensor(normalized_train_data), weight_decay=i>=5)\n",
    "    # Pass the new input data through the trained model to get predictions\n",
    "    predicted_similarity_scores = optimizers[i][0](torch.FloatTensor(normalized_train_data), torch.FloatTensor(normalized_train_data).T)\n",
    "    target = torch.FloatTensor(train_set)\n",
    "    print(torch.mean(torch.sqrt((predicted_similarity_scores[target!=0]*5 - target[target!=0])**2)))\n",
    "    target = torch.FloatTensor(test_set)\n",
    "    print(torch.mean(torch.sqrt((predicted_similarity_scores[target!=0]*5 - target[target!=0])**2)))"
   ]
  },
  {
   "cell_type": "code",
   "execution_count": 55,
   "metadata": {},
   "outputs": [
    {
     "name": "stdout",
     "output_type": "stream",
     "text": [
      "tensor(0.5827, grad_fn=<MeanBackward0>)\n",
      "tensor(0.6748, grad_fn=<MeanBackward0>)\n",
      "tensor(0.5093, grad_fn=<MeanBackward0>)\n",
      "tensor(0.7209, grad_fn=<MeanBackward0>)\n",
      "tensor(0.5753, grad_fn=<MeanBackward0>)\n",
      "tensor(0.6950, grad_fn=<MeanBackward0>)\n",
      "tensor(0.5316, grad_fn=<MeanBackward0>)\n",
      "tensor(0.6955, grad_fn=<MeanBackward0>)\n"
     ]
    }
   ],
   "source": [
    "for k in [25, 30, 35, 40]:\n",
    "    model = deepMF.ParallelLayersModel(input_size, hidden_size_row, hidden_size_col, encoded_dim=k)\n",
    "    optimizer = optim.Adam(model.parameters(), lr=0.001)\n",
    "    deepMF.train_model(model, optimizer, torch.FloatTensor(normalized_train_data))\n",
    "    # Pass the new input data through the trained model to get predictions\n",
    "    predicted_similarity_scores = model(torch.FloatTensor(normalized_train_data), torch.FloatTensor(normalized_train_data).T)\n",
    "    target = torch.FloatTensor(train_set)\n",
    "    print(torch.mean(torch.sqrt((predicted_similarity_scores[target!=0]*5 - target[target!=0])**2)))\n",
    "    target = torch.FloatTensor(test_set)\n",
    "    print(torch.mean(torch.sqrt((predicted_similarity_scores[target!=0]*5 - target[target!=0])**2)))"
   ]
  },
  {
   "cell_type": "code",
   "execution_count": 94,
   "metadata": {},
   "outputs": [],
   "source": [
    "model = deepMF.ParallelLayersModel(input_size, hidden_size_row, hidden_size_col)\n",
    "optimizer = optim.AdamW(model.parameters(), lr=0.001)\n",
    "deepMF.train_model(model, optimizer, torch.FloatTensor(normalized_train_data), test_data=test_set)"
   ]
  },
  {
   "cell_type": "code",
   "execution_count": 96,
   "metadata": {},
   "outputs": [
    {
     "name": "stdout",
     "output_type": "stream",
     "text": [
      "[1.8090029954910278, 1.518591046333313, 1.2772815227508545, 1.091922402381897, 0.9572230577468872, 0.8762134313583374, 0.8367995619773865, 0.8229821920394897, 0.8218688368797302, 0.8224519491195679, 0.8196720480918884, 0.8119210600852966, 0.8003397583961487, 0.7900006771087646, 0.7824667692184448, 0.7808458209037781, 0.7824122309684753, 0.7842073440551758, 0.7834173440933228, 0.7816700339317322, 0.7796587944030762, 0.7785606980323792, 0.7791494727134705, 0.7806158065795898, 0.7812602519989014, 0.7800217270851135, 0.7767158150672913, 0.7721425294876099, 0.7673644423484802, 0.7630724906921387, 0.75959712266922, 0.7566437721252441, 0.7537275552749634, 0.7507810592651367, 0.7479670643806458, 0.7455202341079712, 0.7436509728431702, 0.7425235509872437, 0.742059051990509, 0.7420749068260193, 0.7418891787528992, 0.7408671379089355, 0.7387839555740356, 0.7358809113502502, 0.7327429056167603, 0.7297643423080444, 0.7272637486457825, 0.725273847579956, 0.7237353920936584, 0.7225996851921082, 0.7218393087387085, 0.7214100956916809, 0.7211911082267761, 0.7209414839744568, 0.7201447486877441, 0.7187549471855164, 0.7169432640075684, 0.715013861656189, 0.7132692337036133, 0.7117537260055542, 0.7105349898338318, 0.7096363306045532, 0.7090053558349609, 0.708499014377594, 0.7079031467437744, 0.7070317268371582, 0.7057895064353943, 0.7043789029121399, 0.7030399441719055, 0.7019699811935425, 0.70124351978302, 0.7008236050605774, 0.7005543112754822, 0.7000812292098999, 0.6991864442825317, 0.698017954826355, 0.6968314051628113, 0.6958727836608887, 0.6952390670776367, 0.6948814988136292, 0.694544792175293, 0.6939989924430847, 0.6932051777839661, 0.6923571228981018, 0.6916834712028503, 0.6912863850593567, 0.6911006569862366, 0.6909072399139404, 0.690475583076477, 0.6898279190063477, 0.6891984343528748, 0.6887945532798767, 0.6886118650436401, 0.6884597539901733, 0.6881468296051025, 0.6877102851867676, 0.6873770356178284, 0.6872897148132324, 0.6873581409454346, 0.6873123049736023, 0.6870496273040771, 0.6867763996124268, 0.6867324113845825, 0.6868362426757812, 0.686829149723053, 0.6865808367729187, 0.6863137483596802, 0.68622887134552, 0.6862452626228333, 0.6860970854759216, 0.6857802867889404, 0.6855857372283936, 0.6856175661087036, 0.6856107115745544, 0.685425341129303, 0.6853004693984985, 0.6853286027908325, 0.685278594493866, 0.6850261092185974, 0.684816837310791, 0.6847327351570129, 0.6845963001251221, 0.6843938827514648, 0.6843289136886597, 0.6842784881591797, 0.6840558648109436, 0.6838558912277222, 0.6838396191596985, 0.6836963295936584, 0.6835235357284546, 0.6834471821784973, 0.6832160353660583, 0.6830424666404724, 0.6830804944038391, 0.6829757690429688, 0.682928740978241, 0.6829169988632202, 0.6827505230903625, 0.682809591293335, 0.6827755570411682, 0.6827965974807739, 0.6827564239501953, 0.6826168298721313, 0.6826724410057068, 0.6824315786361694, 0.6827641725540161, 0.6821356415748596, 0.6830596923828125, 0.6816251873970032, 0.6832729578018188, 0.6818257570266724, 0.6823465824127197, 0.6827269792556763, 0.6815319657325745, 0.6830646991729736, 0.6817852258682251, 0.6825373768806458, 0.682655930519104, 0.6820048689842224, 0.6833280920982361, 0.681804895401001, 0.6835353970527649, 0.6819144487380981, 0.6832154393196106, 0.6822589635848999, 0.6827660202980042, 0.6827012896537781, 0.6823921799659729, 0.6831128597259521, 0.6819232702255249, 0.6840541958808899, 0.6809784770011902, 0.6860677003860474, 0.6801955699920654, 0.6853051781654358, 0.6824366450309753, 0.6811027526855469, 0.6856456398963928, 0.6810014843940735, 0.6828516125679016, 0.6845459938049316, 0.6808021664619446, 0.6844315528869629, 0.682881236076355, 0.6814771294593811, 0.6849579811096191, 0.6815048456192017, 0.6828763484954834, 0.6839243769645691, 0.6812538504600525, 0.6842684149742126, 0.6821051836013794, 0.6823590993881226, 0.6839920878410339, 0.6813451647758484, 0.6842048168182373, 0.6817982196807861, 0.6829249858856201, 0.6830743551254272, 0.6817423105239868, 0.6840382218360901, 0.6812069416046143, 0.6843026280403137, 0.6812324523925781, 0.6840567588806152, 0.6814905405044556, 0.6835268139839172, 0.6818961501121521, 0.6830341815948486, 0.6822817921638489, 0.6827399730682373, 0.6825035214424133, 0.682603120803833, 0.6826177835464478, 0.682476282119751, 0.6827468872070312, 0.6822299361228943, 0.6831364631652832, 0.681498646736145, 0.6847580671310425, 0.6795080900192261, 0.6915664076805115, 0.6779753565788269, 0.692359447479248, 0.6817640662193298, 0.6777713298797607, 0.6885687708854675, 0.682160496711731, 0.6777622699737549, 0.6853431463241577, 0.6842920184135437, 0.6780945062637329, 0.6824491620063782, 0.6860079765319824, 0.6789820194244385, 0.680679976940155, 0.6864105463027954, 0.6801485419273376, 0.6796773076057434, 0.6854579448699951, 0.6816721558570862, 0.679440438747406, 0.6838504672050476, 0.6829391121864319, 0.6796070337295532, 0.6826695799827576, 0.6837672591209412, 0.6800840497016907, 0.6818816661834717, 0.683930516242981]\n",
      "[1.8001238107681274, 1.5102201700210571, 1.2707688808441162, 1.0871742963790894, 0.9536832571029663, 0.874778687953949, 0.8360937833786011, 0.8239957690238953, 0.824232816696167, 0.8256998658180237, 0.8230802416801453, 0.8149818181991577, 0.802762508392334, 0.7916883826255798, 0.7839317321777344, 0.7819461822509766, 0.7830838561058044, 0.7846580743789673, 0.7834455370903015, 0.7815045118331909, 0.779116153717041, 0.7771427035331726, 0.776847779750824, 0.777556836605072, 0.7773454189300537, 0.7754143476486206, 0.7716871500015259, 0.7669624090194702, 0.7622321248054504, 0.7581719160079956, 0.7549701929092407, 0.7520996928215027, 0.7491340041160583, 0.7460435032844543, 0.7430170774459839, 0.7403188347816467, 0.7381688356399536, 0.7367077469825745, 0.7358622550964355, 0.7355355024337769, 0.7350676655769348, 0.7337714433670044, 0.7314243912696838, 0.7282759547233582, 0.7249320149421692, 0.7218036651611328, 0.7191386222839355, 0.7169553637504578, 0.7151243686676025, 0.7136231064796448, 0.7124170064926147, 0.7114918828010559, 0.7108067870140076, 0.7101414203643799, 0.7089967727661133, 0.7073141932487488, 0.7052755355834961, 0.703173816204071, 0.7012501358985901, 0.6995381116867065, 0.6980543732643127, 0.6967877745628357, 0.6957502365112305, 0.6948422789573669, 0.6938356161117554, 0.6925408244132996, 0.690886378288269, 0.689061164855957, 0.6872993111610413, 0.6857640743255615, 0.6845142841339111, 0.6835495233535767, 0.6827418208122253, 0.6817997097969055, 0.6805490851402283, 0.6790598630905151, 0.6775750517845154, 0.6762914061546326, 0.675283670425415, 0.6745042204856873, 0.6737504005432129, 0.6728211045265198, 0.6716870069503784, 0.6705024242401123, 0.6694726943969727, 0.6686844825744629, 0.6680846810340881, 0.6674862504005432, 0.6666789054870605, 0.665687620639801, 0.6647123098373413, 0.6639281511306763, 0.663322925567627, 0.662728488445282, 0.6619651913642883, 0.6610532999038696, 0.66021329164505, 0.6595767140388489, 0.6590684652328491, 0.6584476828575134, 0.6576316952705383, 0.6568020582199097, 0.6561547517776489, 0.655620813369751, 0.6549938321113586, 0.6541775465011597, 0.6533651351928711, 0.6527178287506104, 0.6521621942520142, 0.6514706015586853, 0.6506383419036865, 0.6498994827270508, 0.6493231058120728, 0.6487095355987549, 0.6479399800300598, 0.6471997499465942, 0.646597683429718, 0.6459496021270752, 0.6451565623283386, 0.6444094181060791, 0.6437612175941467, 0.6430464386940002, 0.6422452330589294, 0.6415421366691589, 0.6408666968345642, 0.640080988407135, 0.6393105983734131, 0.638649582862854, 0.6378641724586487, 0.637076735496521, 0.6363925337791443, 0.6355926394462585, 0.6348066926002502, 0.6341487765312195, 0.6333650350570679, 0.6326375007629395, 0.6319628953933716, 0.6311678886413574, 0.6305312514305115, 0.6297918558120728, 0.6291041970252991, 0.6283935904502869, 0.6276181936264038, 0.6269950866699219, 0.6261141300201416, 0.625694215297699, 0.62452632188797, 0.6246290802955627, 0.6228633522987366, 0.6234708428382874, 0.6216848492622375, 0.6214190721511841, 0.6210774779319763, 0.6195461750030518, 0.6200144290924072, 0.6183975338935852, 0.6182745695114136, 0.6176783442497253, 0.6165124177932739, 0.6167802810668945, 0.6150323748588562, 0.6156236529350281, 0.6138670444488525, 0.6142127513885498, 0.6129438281059265, 0.6127199530601501, 0.6120812296867371, 0.6112744808197021, 0.6112129092216492, 0.6097968220710754, 0.6107003092765808, 0.6080877780914307, 0.6111698150634766, 0.6067335605621338, 0.6095418930053711, 0.6069894433021545, 0.6057411432266235, 0.6084396243095398, 0.6047958731651306, 0.6054421663284302, 0.6061828136444092, 0.6034249067306519, 0.6052367091178894, 0.6037408113479614, 0.6025061011314392, 0.6043959856033325, 0.6017983555793762, 0.6022427678108215, 0.602571964263916, 0.6005870699882507, 0.6021299958229065, 0.600385308265686, 0.6001744866371155, 0.6008691787719727, 0.5989356637001038, 0.6003754734992981, 0.5985853672027588, 0.5989446043968201, 0.5987491011619568, 0.5976808071136475, 0.5988079905509949, 0.596806526184082, 0.5984092354774475, 0.5962135791778564, 0.597643256187439, 0.5957726836204529, 0.5967177748680115, 0.595429003238678, 0.5958288908004761, 0.595083475112915, 0.5950806140899658, 0.5946696400642395, 0.5944653153419495, 0.5942177772521973, 0.5938827395439148, 0.5937966108322144, 0.5932296514511108, 0.5935423374176025, 0.5923299789428711, 0.5941444635391235, 0.5911092758178711, 0.5992503762245178, 0.5925093293190002, 0.5999036431312561, 0.5915771126747131, 0.590386688709259, 0.5965874195098877, 0.5915115475654602, 0.5895938277244568, 0.5933660864830017, 0.5923846364021301, 0.5890272259712219, 0.5907484292984009, 0.5930711030960083, 0.5885507464408875, 0.5890101790428162, 0.5926641225814819, 0.5884194374084473, 0.5880372524261475, 0.591322124004364, 0.5886074900627136, 0.5873709321022034, 0.5896307229995728, 0.588864803314209, 0.5869196057319641, 0.5883294939994812, 0.5888614058494568, 0.586590588092804, 0.5873368382453918, 0.5884609818458557]\n"
     ]
    },
    {
     "data": {
      "text/plain": [
       "<matplotlib.legend.Legend at 0x1ec048c18b0>"
      ]
     },
     "execution_count": 96,
     "metadata": {},
     "output_type": "execute_result"
    },
    {
     "data": {
      "image/png": "[encoded data removed]",
      "text/plain": [
       "<Figure size 640x480 with 1 Axes>"
      ]
     },
     "metadata": {},
     "output_type": "display_data"
    }
   ],
   "source": [
    "print(model.rmse_test_hist)\n",
    "print(model.rmse_train_hist)\n",
    "plt.plot(model.rmse_test_hist, label=\"test\")\n",
    "plt.plot(model.rmse_train_hist, label=\"train\")\n",
    "plt.legend()"
   ]
  },
  {
   "attachments": {},
   "cell_type": "markdown",
   "metadata": {},
   "source": [
    "## Result analysis"
   ]
  },
  {
   "cell_type": "code",
   "execution_count": 56,
   "metadata": {},
   "outputs": [
    {
     "name": "stdout",
     "output_type": "stream",
     "text": [
      "Ratings loading...\n",
      "Ratings Loaded.\n"
     ]
    }
   ],
   "source": [
    "import numpy as np\n",
    "!python generate.py --name ./dataset/ratings_train.npy"
   ]
  },
  {
   "cell_type": "code",
   "execution_count": 57,
   "metadata": {},
   "outputs": [
    {
     "name": "stdout",
     "output_type": "stream",
     "text": [
      "0.8943972670565422\n"
     ]
    }
   ],
   "source": [
    "\"\"\"\n",
    "    Use thise cell after running generate.py and assign the used file to calculate the train rmse.\n",
    "\n",
    "    To have the test RMSE use the test file.\n",
    "\"\"\"\n",
    "\n",
    "non_normalized_train_data = np.load('./dataset/ratings_test.npy')\n",
    "non_normalized_train_data[np.isnan(non_normalized_train_data)] = 0\n",
    "\n",
    "output = np.load('output.npy')\n",
    "predictions = output[non_normalized_train_data!=0]\n",
    "targets = non_normalized_train_data[non_normalized_train_data!=0]\n",
    "# Calculate the squared differences between predictions and targets\n",
    "squared_errors = (predictions - targets) ** 2\n",
    "\n",
    "# Calculate the mean of squared errors\n",
    "mean_squared_error = squared_errors.mean()\n",
    "\n",
    "# Calculate the square root to get RMSE\n",
    "rmse_value = np.sqrt(mean_squared_error)\n",
    "print(rmse_value)\n"
   ]
  },
  {
   "cell_type": "markdown",
   "metadata": {},
   "source": [
    "# PCA \n",
    "\n",
    "### Just for analysis\n"
   ]
  },
  {
   "cell_type": "code",
   "execution_count": 58,
   "metadata": {},
   "outputs": [],
   "source": [
    "import numpy as np\n",
    "import matplotlib.pyplot as plt\n",
    "from sklearn.decomposition import PCA"
   ]
  },
  {
   "cell_type": "code",
   "execution_count": 70,
   "metadata": {},
   "outputs": [
    {
     "name": "stdout",
     "output_type": "stream",
     "text": [
      "[0.66333787 0.72528517 2.0669103  1.09725633 0.72011802 0.7435513\n",
      " 1.12776028 0.74938254 0.93537051 0.94708929 0.69269608 0.88610116\n",
      " 0.70134165 0.99416845 1.07235846 0.5398198  0.51231652 0.3981218\n",
      " 0.76630736 0.81297525 0.78755444 1.47448983 0.62833808 0.45833302\n",
      " 0.32804264 0.61826666 1.09562838 0.7814491  0.34353513 0.48656703\n",
      " 0.88518963 0.5863135  0.79107169 1.13118974 0.75546175 0.81534625\n",
      " 1.28866711 1.00696243 0.80213644 0.73587605 0.97827182 0.82979481\n",
      " 0.71871456 0.90097254 0.68209773 0.54044766 0.85090331 0.5920148\n",
      " 0.21801446 0.57831078 0.86517636 0.58911021 0.97149721 0.36326995\n",
      " 1.330685   0.57812855 0.6984978  0.84800603 0.87541291 0.80745476\n",
      " 0.76163475 0.59051371 0.74396271 0.6237688  0.34300089 0.55602271\n",
      " 0.44550718 0.78300145 0.75170555 0.48347617 0.96117281 0.20843708\n",
      " 0.84019877 0.48955274 1.09621561 1.22600154 1.57190068 0.94945568\n",
      " 0.62509548 0.41067309 0.99145741 0.80465243 0.91649458 0.60916109\n",
      " 1.07130938 0.51825541 0.51288341 0.33768824 1.0303031  0.76652178\n",
      " 0.76469042 0.41517891 0.55025238 0.5837218  0.59689658 1.0971846\n",
      " 0.94821846 0.867263   0.89181488 0.66454413 0.69516048 0.63218615\n",
      " 0.60457293 0.7585574  0.46431477 0.63306815 0.74356828 0.85383513\n",
      " 0.68274935 0.44010986 0.78901815 1.11036405 0.9548503  1.05037894\n",
      " 1.01993213 1.06708897 0.58160318 0.36030427 0.47385154 0.72280018\n",
      " 0.77328523 0.36349486 0.3796322  0.40843637 0.67298237 1.24987452\n",
      " 0.9140466  0.64470904 0.65850474 0.92643292 0.52598021 0.62286748\n",
      " 0.47890646 0.52260481 0.84293561 1.10839606 0.57522291 1.44287586\n",
      " 0.78919483 0.74027038 0.69538269 0.59080264 1.18704855 0.58643248\n",
      " 0.45154671 0.4533836  0.80555604 0.74670472 1.17389698 0.55811496\n",
      " 0.56719339 0.49312001 1.13578412 1.04573759 0.81964548 0.71320914\n",
      " 0.87430562 0.74549046 0.81785424 1.06885838 0.51436337 0.60660584\n",
      " 0.64430792 0.72611745 0.54346904 0.48398999 0.84975922 0.54134395\n",
      " 0.52455043 0.82279819 0.72806358 0.8358622  0.73826942 0.8906498\n",
      " 1.58390254 0.75923884 0.75410067 0.50890659 0.40942339 0.4476196\n",
      " 0.76106473 0.75076294 0.84581516 0.45551171 0.81668398 0.45635414\n",
      " 0.84443205 0.81861499 0.38511785 0.59552537 0.93833349 0.62670634\n",
      " 1.07321077 0.60483876 0.84395423 0.80604825 1.19787559 0.99367831\n",
      " 0.8191751  0.74764793 0.7470637  0.59815173 0.96435352 0.6747024\n",
      " 0.68217568 0.62354093 1.37936184 0.53778196 0.59859207 0.5331366\n",
      " 0.59144554 0.59860931 0.48623649 0.77167302 0.58165469 0.80205815\n",
      " 0.76306546 0.97898852 0.75981188 0.66911257 0.5889336  0.65493935\n",
      " 0.84743948 1.25463977 0.80499822 0.71519563 0.49503193 0.43447687\n",
      " 0.46980007 1.25395795 0.97416322 0.56480393 0.69467457 0.7312337\n",
      " 0.61857413 0.69821941 0.75283466 0.88311952 0.56084758 0.79734649\n",
      " 0.53613053 0.59715712 0.88324509 1.10046759 0.58220417 0.63382704\n",
      " 0.72493959 0.75520431 0.45108467 0.45012977 0.8352104  0.65741696\n",
      " 0.74471898 0.57609308 1.53677561 0.5779604  1.00424122 1.38085307\n",
      " 1.51232228 0.79080673 1.04455505 0.76014014 0.54082735 0.93084045\n",
      " 0.73933997 1.11094572 1.35866984 0.91777163 0.58701089 0.64202514\n",
      " 0.46183896 0.42587813 0.64824729 0.62027991 0.83572545 0.67284532\n",
      " 0.47687278 0.51859223 0.74795635 0.62277195 0.5148436  0.75924202\n",
      " 0.8597889  0.58183743 0.70468378 0.76324238 1.07514898 0.60669477\n",
      " 0.44969679 0.46056548 0.86888569 0.75038898 0.5486714  0.84320251\n",
      " 1.01700503 0.97166269 1.03917895 0.7394895  0.79670909 0.62525081\n",
      " 0.91721035 0.71567786 1.00287123 0.77326818 0.74991123 0.65478894\n",
      " 0.70134621 1.58689012 0.61842018 1.17816884 1.56827406 0.52695909\n",
      " 1.13247032 0.86426792 0.71933741 0.72440641 0.86723009 0.48862762\n",
      " 0.52446202 1.07477834 0.60006064 0.67665492 0.64196304 0.48922171\n",
      " 0.65491691 0.69979437 0.64920852 1.12151274 1.58967468 0.70615755\n",
      " 0.71761993 0.49758821 0.78554586 0.55725777 1.0079408  0.64774598\n",
      " 0.6707294  1.12517985 0.75191345 0.55994671 0.67015637 0.98513057\n",
      " 0.83874768 1.33929731 0.47876063 0.65533527 0.67905494 0.38444964\n",
      " 0.51627272 0.60810998 0.46985909 0.71440334 0.74947676 0.54069734\n",
      " 0.43457765 0.62770459 0.57308863 0.20223713 0.93342432 0.80483204\n",
      " 0.91417302 0.37955137 1.06749648 0.85071893 1.011475   0.38772171\n",
      " 0.81293677 0.55486373 0.7060275  0.80936175 0.60519073 0.74849252\n",
      " 1.01328421 0.74447397 0.82107438 0.60994466 0.5283458  0.64379912\n",
      " 0.84789886 0.64299274 0.76468171 0.44474913 0.85303724 0.78085782\n",
      " 0.6293676  0.76399256 0.5859526  1.2130032  0.65582752 0.68607302\n",
      " 0.80083404 1.18613156 1.44729381 0.8991247  0.85387777 0.78191144\n",
      " 0.73312353 0.6513749  1.45548776 0.50862665 0.55028006 0.82516249\n",
      " 0.62775243 0.46617923 0.48850728 0.83830095 0.69006526 0.58435586\n",
      " 0.73518246 0.67908355 0.80266263 0.70226245 1.12824004 0.53903351\n",
      " 0.39497631 1.13861232 0.58880594 1.29950033 0.72897786 0.41581329\n",
      " 0.84550795 0.73511428 1.36800761 0.7100954  0.50819852 1.12708158\n",
      " 0.54467218 0.78326899 0.5039406  0.71572645 0.79237675 0.77836972\n",
      " 0.84608573 0.6825063  0.43729663 0.63992746 0.82860694 0.61435895\n",
      " 0.55714796 0.45070468 0.40593562 1.69737277 0.60534035 0.47060042\n",
      " 0.72376143 0.71453064 0.76701047 0.62215227 0.81566485 0.6071173\n",
      " 0.81818586 0.56262144 0.84114434 0.65982844 0.62134056 0.65004933\n",
      " 0.84565092 0.73851261 0.4795472  0.48644286 1.63551616 0.8566\n",
      " 0.35995515 0.86375195 0.44248376 0.36476371 0.98022995 0.68053243\n",
      " 0.65200392 0.58718416 0.57694188 1.10605341 0.80467992 0.64846294\n",
      " 0.56393166 0.58394504 0.64036427 0.77593949 0.6761604  0.77840277\n",
      " 0.78627291 0.98044341 0.69391184 0.67478324 1.33551642 0.63822417\n",
      " 0.97895106 0.71361902 0.8846582  0.5863982  0.64653301 0.7367821\n",
      " 0.81640478 0.8412399  0.79273856 0.74005125 1.1222793  0.81532167\n",
      " 0.60364222 1.307674   0.86209418 1.3525922  0.80597588 0.63083908\n",
      " 0.54817927 1.10479925 0.28950677 1.1413122  0.55033641 0.93448283\n",
      " 0.45004599 0.68711965 0.73118015 0.57272516 0.3071543  0.63546557\n",
      " 1.12477147 1.22541439 0.50284761 0.73428885 0.51840713 0.86058897\n",
      " 0.36838707 0.93878666 0.58131102 0.69824923 0.76012692 0.9122315\n",
      " 0.94231745 0.7184978  1.16440996 0.41308615 0.61257476 0.61265767\n",
      " 0.92332119 1.19330751 1.02334304 0.57827876 0.69258465 0.41156526\n",
      " 0.91179726 1.37257275 1.26676778 0.7737902  0.50886421 1.05448859\n",
      " 0.89723761 0.69880972 1.05344206 0.43181815 0.97091295 0.77060578\n",
      " 0.49923481 0.96860571 0.78950686 0.42619387 0.90567652 0.77383859\n",
      " 0.71886353 0.5232169  0.68648892 0.61863719 0.49247502 0.72935725\n",
      " 0.6229938  0.64109997 0.82568697 0.48247147 0.71166676 0.56332177\n",
      " 0.90042428 0.91487952 0.71491423 0.57793011 0.75019148 1.13297259\n",
      " 0.69619247 0.28572579 0.63721853 0.77858962 0.50629555 0.55695431\n",
      " 0.52822181 1.05388114 0.44646103 0.55321528 0.72786563 0.62272756\n",
      " 0.78990086 0.58188766 0.86095432 0.68558697 1.07276911 0.8135844\n",
      " 0.3836135  0.57690702 0.68996972 1.56481101 0.56225374 0.8438047\n",
      " 0.40357887 0.85103831 0.83039214 0.46632021 0.68596885 0.59736245\n",
      " 0.93475087 0.8716576  0.40746736 0.55664038]\n"
     ]
    }
   ],
   "source": [
    "output = np.load('output.npy')\n",
    "non_normalized_train_data = np.load('./dataset/ratings_train.npy')\n",
    "non_normalized_train_data[np.isnan(non_normalized_train_data)] = 0\n",
    "rmse_per_user = []\n",
    "for line_output, line_test in zip(output, non_normalized_train_data):\n",
    "    predictions = line_output[line_test!=0]\n",
    "    targets = line_test[line_test!=0]\n",
    "    # Calculate the squared differences between predictions and targets\n",
    "    squared_errors = (predictions - targets) ** 2\n",
    "\n",
    "    # Calculate the mean of squared errors\n",
    "    mean_squared_error = squared_errors.mean()\n",
    "\n",
    "    # Calculate the square root to get RMSE\n",
    "    rmse_value = np.sqrt(mean_squared_error)\n",
    "    rmse_per_user.append(rmse_value)\n",
    "rmse_per_user = np.array(rmse_per_user)\n",
    "print(rmse_per_user)"
   ]
  },
  {
   "cell_type": "code",
   "execution_count": 71,
   "metadata": {},
   "outputs": [
    {
     "data": {
      "image/png": "[encoded data removed]",
      "text/plain": [
       "<Figure size 640x480 with 1 Axes>"
      ]
     },
     "metadata": {},
     "output_type": "display_data"
    }
   ],
   "source": [
    "# Generate a random sparse matrix\n",
    "X = non_normalized_train_data = np.load('./dataset/ratings_train.npy')\n",
    "X[np.isnan(X)] = 0\n",
    "\n",
    "n_samples = X.shape[0]\n",
    "n_features = X.shape[1]\n",
    "\n",
    "# Perform PCA\n",
    "n_components = 2  # Number of components to retain\n",
    "pca = PCA(n_components=n_components)\n",
    "X_r = pca.fit_transform(X)\n",
    "\n",
    "# Plot the results\n",
    "fig = plt.figure()\n",
    "plt.scatter(X_r[:, 0], X_r[:, 1], c=rmse_per_user)\n",
    "plt.title('PCA of Sparse Matrix')\n",
    "plt.show()\n"
   ]
  },
  {
   "cell_type": "code",
   "execution_count": null,
   "metadata": {},
   "outputs": [],
   "source": []
  }
 ],
 "metadata": {
  "kernelspec": {
   "display_name": "Python 3",
   "language": "python",
   "name": "python3"
  },
  "language_info": {
   "codemirror_mode": {
    "name": "ipython",
    "version": 3
   },
   "file_extension": ".py",
   "mimetype": "text/x-python",
   "name": "python",
   "nbconvert_exporter": "python",
   "pygments_lexer": "ipython3",
   "version": "3.9.10"
  },
  "orig_nbformat": 4
 },
 "nbformat": 4,
 "nbformat_minor": 2
}
